{
 "cells": [
  {
   "cell_type": "code",
   "execution_count": null,
   "id": "4d7232d9",
   "metadata": {},
   "outputs": [],
   "source": []
  },
  {
   "cell_type": "code",
   "execution_count": null,
   "id": "70ca3bef",
   "metadata": {},
   "outputs": [],
   "source": []
  }
 ],
 "metadata": {
  "kernelspec": {
   "display_name": "wlsp_kernel",
   "language": "wlsp_kernel",
   "name": "wlsp_kernel"
  }
 },
 "nbformat": 4,
 "nbformat_minor": 5
}
