{
 "cells": [
  {
   "cell_type": "code",
   "execution_count": null,
   "id": "5c73d456",
   "metadata": {},
   "outputs": [],
   "source": []
  }
 ],
 "metadata": {
  "kernelspec": {
   "display_name": "wlsp_kernel",
   "language": "wlsp_kernel",
   "name": "wlsp_kernel"
  }
 },
 "nbformat": 4,
 "nbformat_minor": 5
}
